{
 "cells": [
  {
   "cell_type": "code",
   "execution_count": null,
   "metadata": {
    "vscode": {
     "languageId": "html"
    }
   },
   "outputs": [],
   "source": [
    "<!-- Flowplay -->\n",
    "<!-- Hero - Background Video -->\n",
    "\n",
    "<video \n",
    "  class=\"hero--video-element\"\n",
    "  f-data-video=\"video-element\"    \n",
    "  autoplay\n",
    "  defaultMuted\n",
    "  loop                           \n",
    "  muted         \n",
    "  playsinline\n",
    "  webkit-playsinline\n",
    "  scaling=\"fill\"    \n",
    "  preload=\"auto\"                  \n",
    "  loading=\"eager\"                 \n",
    "  aria-hidden=\"true\"        \n",
    "  >\n",
    "  <source \n",
    "    f-data-video-src-quality=\"1080p\" \n",
    "    src=\"https://anobel.b-cdn.net/Video%20-%20Home%20-%20Hero%20-%20Background%20Scene%20-%201080p.mp4\"\n",
    "    type=\"video/mp4\"              \n",
    "  >\n",
    "</video>"
   ]
  }
 ],
 "metadata": {
  "kernelspec": {
   "display_name": "Python 3",
   "language": "python",
   "name": "python3"
  },
  "language_info": {
   "name": "python",
   "version": "3.9.6"
  },
  "orig_nbformat": 4
 },
 "nbformat": 4,
 "nbformat_minor": 2
}

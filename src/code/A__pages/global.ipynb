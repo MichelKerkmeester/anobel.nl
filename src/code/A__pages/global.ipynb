{
 "cells": [
  {
   "cell_type": "code",
   "execution_count": null,
   "metadata": {
    "vscode": {
     "languageId": "html"
    }
   },
   "outputs": [],
   "source": [
    "JS | Header (End)\n",
    "_________________\n",
    "\n",
    "<!-- Preload hints -->\n",
    "<link rel=\"preload\" href=\"https://cdn.jsdelivr.net/npm/motion@12.15.0/+esm\" as=\"script\" crossorigin>\n",
    "<link rel=\"preload\" href=\"https://cdn.jsdelivr.net/npm/gsap@3.12.5/dist/gsap.min.js\" as=\"script\">\n",
    "<link rel=\"preload\" href=\"https://cdn.jsdelivr.net/npm/gsap@3.12.5/dist/ScrollTrigger.min.js\" as=\"script\">\n",
    "\n",
    "<!-- Load and register -->\n",
    "<script type=\"module\">\n",
    "    import { animate, scroll } from \"https://cdn.jsdelivr.net/npm/motion@12.15.0/+esm\"\n",
    "    \n",
    "    // Make Motion functions globally available\n",
    "    window.animate = animate\n",
    "    window.scroll = scroll\n",
    "    \n",
    "    console.log('Motion.dev')\n",
    "  </script>\n",
    "<script src=\"https://cdn.jsdelivr.net/npm/gsap@3.12.5/dist/gsap.min.js\"></script>\n",
    "<script src=\"https://cdn.jsdelivr.net/npm/gsap@3.12.5/dist/ScrollTrigger.min.js\" onload=\"gsap.registerPlugin(ScrollTrigger);\"></script>\n",
    " "
   ]
  },
  {
   "cell_type": "code",
   "execution_count": null,
   "metadata": {
    "vscode": {
     "languageId": "html"
    }
   },
   "outputs": [],
   "source": [
    "JS | Footer (Before)\n",
    "____________________\n",
    "\n",
    "<!-- Slater: Temporary Dev. Solution -->\n",
    "<script>document.addEventListener(\"DOMContentLoaded\", function() {function loadanobelnl3c48008951374bae94a19c4600d8c765(e){let t=document.createElement(\"script\");t.setAttribute(\"src\",e),t.setAttribute(\"type\",\"module\"),document.body.appendChild(t),t.addEventListener(\"load\",()=>{console.log(\"Slater.app\")}),t.addEventListener(\"error\",e=>{console.log(\"Error loading file\",e)})}let src=window.location.host.includes(\"webflow.io\")?\"https://slater.app/14613.js\":\"https://assets.slater.app/slater/14613.js?v=1.0\";loadanobelnl3c48008951374bae94a19c4600d8c765(src);})</script>"
   ]
  }
 ],
 "metadata": {
  "kernelspec": {
   "display_name": "Python 3",
   "language": "python",
   "name": "python3"
  },
  "language_info": {
   "name": "python",
   "version": "3.9.6"
  },
  "orig_nbformat": 4
 },
 "nbformat": 4,
 "nbformat_minor": 2
}

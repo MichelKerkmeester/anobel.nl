{
 "cells": [
  {
   "cell_type": "code",
   "execution_count": null,
   "metadata": {
    "vscode": {
     "languageId": "html"
    }
   },
   "outputs": [],
   "source": [
    "JS | Header (End)\n",
    "_________________\n",
    "\n",
    "<!-- Preload hints -->\n",
    "<link rel=\"preload\" href=\"https://cdn.jsdelivr.net/npm/gsap@3.12.5/dist/gsap.min.js\" as=\"script\">\n",
    "<link rel=\"preload\" href=\"https://cdn.jsdelivr.net/npm/gsap@3.12.5/dist/ScrollTrigger.min.js\" as=\"script\">\n",
    "\n",
    "<!-- Load and register -->\n",
    "<script src=\"https://cdn.jsdelivr.net/npm/gsap@3.12.5/dist/gsap.min.js\"></script>\n",
    "<script src=\"https://cdn.jsdelivr.net/npm/gsap@3.12.5/dist/ScrollTrigger.min.js\" onload=\"gsap.registerPlugin(ScrollTrigger);\"></script>"
   ]
  },
  {
   "cell_type": "code",
   "execution_count": null,
   "metadata": {
    "vscode": {
     "languageId": "html"
    }
   },
   "outputs": [],
   "source": [
    "JS | Footer (Before)\n",
    "____________________\n",
    "\n",
    "<!-- Lenis.js - Smooth Scrolling -->\n",
    "<script data-id-scroll data-autoinit=\"true\" data-duration=\"1\" data-orientation=\"vertical\" data-smoothWheel=\"true\"\n",
    "    data-smoothTouch=\"false\" data-touchMultiplier=\"1.5\" data-easing=\"(t) => (t === 1 ? 1 : 1 - Math.pow(2, -10 * t))\"\n",
    "    data-useOverscroll=\"true\" data-useControls=\"true\" data-useAnchor=\"true\" data-useRaf=\"true\" data-infinite=\"false\"\n",
    "    defer\n",
    "    src=\"https://uploads-ssl.webflow.com/645e0e1ff7fdb6dc8c85f3a2/653b82ecf87f552a98ac66b9_lenis-master-offbrand.02.txt\"></script>"
   ]
  }
 ],
 "metadata": {
  "kernelspec": {
   "display_name": "Python 3",
   "language": "python",
   "name": "python3"
  },
  "language_info": {
   "name": "python",
   "version": "3.9.6"
  },
  "orig_nbformat": 4
 },
 "nbformat": 4,
 "nbformat_minor": 2
}

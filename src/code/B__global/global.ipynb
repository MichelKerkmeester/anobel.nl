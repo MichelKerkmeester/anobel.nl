{
 "cells": [
  {
   "cell_type": "code",
   "execution_count": null,
   "metadata": {
    "vscode": {
     "languageId": "html"
    }
   },
   "outputs": [],
   "source": [
    "JS | Header (End)\n",
    "_________________\n",
    "\n",
    "<!-- Preload hints -->\n",
    "<link rel=\"preconnect\" href=\"cdn.prod.website-files.com\" crossorigin>    \n",
    "<link rel=\"preload\" href=\"https://cdn.jsdelivr.net/npm/motion@12.15.0/+esm\" as=\"script\" crossorigin>\n",
    "<link rel=\"preload\" href=\"https://cdn.jsdelivr.net/npm/gsap@3.12.5/dist/gsap.min.js\" as=\"script\">\n",
    "<link rel=\"preload\" href=\"https://cdn.jsdelivr.net/npm/gsap@3.12.5/dist/ScrollTrigger.min.js\" as=\"script\">\n",
    "\n",
    "<!-- Motion.dev -->\n",
    "<script type=\"module\">\n",
    "    console.log('🚀 Motion.dev import starting...') \n",
    "    \n",
    "    try {\n",
    "        const { \n",
    "            // Core Animation Functions\n",
    "            animate, \n",
    "            scroll, \n",
    "            inView, \n",
    "            hover, \n",
    "            press, \n",
    "            resize,\n",
    "            // Utility Functions\n",
    "            delay, \n",
    "            frame, \n",
    "            mix, \n",
    "            spring, \n",
    "            stagger, \n",
    "            transform, \n",
    "            wrap,\n",
    "            // Motion Values\n",
    "            motionValue, \n",
    "            mapValue, \n",
    "            transformValue, \n",
    "            springValue,\n",
    "            // Renderers\n",
    "            attrEffect, \n",
    "            propEffect, \n",
    "            styleEffect, \n",
    "            svgEffect\n",
    "        } = await import(\"https://cdn.jsdelivr.net/npm/motion@12.15.0/+esm\")\n",
    "        \n",
    "        // Make functions globally available for Slater\n",
    "        window.Motion = {\n",
    "            animate, scroll, inView, hover, press, resize,\n",
    "            delay, frame, mix, spring, stagger, transform, wrap,\n",
    "            motionValue, mapValue, transformValue, springValue,\n",
    "            attrEffect, propEffect, styleEffect, svgEffect\n",
    "        }\n",
    "        \n",
    "        // Also make available as lowercase for existing code\n",
    "        window.motion = window.Motion\n",
    "        \n",
    "        console.log('✅ Motion.dev loaded successfully!')\n",
    "        console.log('Available at window.Motion:', Object.keys(window.Motion))\n",
    "        \n",
    "    } catch (error) {\n",
    "        console.error('❌ Motion.dev failed to load:', error)\n",
    "    }\n",
    "  </script>\n",
    "\n",
    "<!-- GSAP -->\n",
    "<script src=\"https://cdn.jsdelivr.net/npm/gsap@3.12.5/dist/gsap.min.js\"></script>\n",
    "<script src=\"https://cdn.jsdelivr.net/npm/gsap@3.12.5/dist/ScrollTrigger.min.js\" onload=\"gsap.registerPlugin(ScrollTrigger);\"></script>"
   ]
  },
  {
   "cell_type": "code",
   "execution_count": null,
   "metadata": {
    "vscode": {
     "languageId": "html"
    }
   },
   "outputs": [],
   "source": [
    "JS | Footer (Before)\n",
    "____________________\n",
    "\n",
    "<!-- Slater: Temporary Dev. Solution -->\n",
    "<script>document.addEventListener(\"DOMContentLoaded\", function() {function loadanobelnl3c48008951374bae94a19c4600d8c765(e){let t=document.createElement(\"script\");t.setAttribute(\"src\",e),t.setAttribute(\"type\",\"module\"),document.body.appendChild(t),t.addEventListener(\"load\",()=>{console.log(\"Slater.app\")}),t.addEventListener(\"error\",e=>{console.log(\"Error loading file\",e)})}let src=window.location.host.includes(\"webflow.io\")?\"https://slater.app/14613.js\":\"https://assets.slater.app/slater/14613.js?v=1.0\";loadanobelnl3c48008951374bae94a19c4600d8c765(src);})</script>"
   ]
  }
 ],
 "metadata": {
  "kernelspec": {
   "display_name": "Python 3",
   "language": "python",
   "name": "python3"
  },
  "language_info": {
   "name": "python",
   "version": "3.9.6"
  },
  "orig_nbformat": 4
 },
 "nbformat": 4,
 "nbformat_minor": 2
}

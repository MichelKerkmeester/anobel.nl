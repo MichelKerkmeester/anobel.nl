{
 "cells": [
  {
   "cell_type": "code",
   "execution_count": null,
   "metadata": {
    "vscode": {
     "languageId": "html"
    }
   },
   "outputs": [],
   "source": [
    "JS | Header (End)\n",
    "_________________\n",
    "\n",
    "<!-- Finsweet - CMS Nest -->\n",
    "<script async src=\"https://cdn.jsdelivr.net/npm/@finsweet/attributes-cmsnest@1/cmsnest.js\"></script>\n",
    "\n",
    "<!-- GSAP - Library -->\n",
    "<script src=\"https://cdn.jsdelivr.net/npm/gsap@3.12.5/dist/gsap.min.js\"></script>\n",
    "\n",
    "<!-- GSAP - Scroll Trigger -->\n",
    "<script src=\"https://cdn.jsdelivr.net/npm/gsap@3.12.5/dist/ScrollTrigger.min.js\"></script>"
   ]
  },
  {
   "cell_type": "code",
   "execution_count": null,
   "metadata": {
    "vscode": {
     "languageId": "html"
    }
   },
   "outputs": [],
   "source": [
    "JS | Footer (Before)\n",
    "____________________\n",
    "\n",
    "<!-- ViteFlow: Local & Production Dev. -->\n",
    "<script type=\"text/javascript\" src=\"https://cdn.jsdelivr.net/gh/CarterOgunsola/vite-flow-demo-2@main/prod/versions/v1.0.0/index.js\"></script>\n",
    "<script type=\"module\" src=\"http://localhost:3000/@vite/client\"></script>\n",
    "<script type=\"module\" src=\"http://localhost:3000/js/index.js\"></script>\n",
    "\n",
    "<!-- Slater: Temporary Dev. Solution -->\n",
    "<script>document.addEventListener(\"DOMContentLoaded\", function() {function loadanobelnl3c48008951374bae94a19c4600d8c765(e){let t=document.createElement(\"script\");t.setAttribute(\"src\",e),t.setAttribute(\"type\",\"module\"),document.body.appendChild(t),t.addEventListener(\"load\",()=>{console.log(\"Slater loaded Anobel.nl.js: https://slater.app/14613.js 🤙\")}),t.addEventListener(\"error\",e=>{console.log(\"Error loading file\",e)})}let src=window.location.host.includes(\"webflow.io\")?\"https://slater.app/14613.js\":\"https://assets.slater.app/slater/14613.js?v=1.0\";loadanobelnl3c48008951374bae94a19c4600d8c765(src);})</script>"
   ]
  }
 ],
 "metadata": {
  "kernelspec": {
   "display_name": "Python 3",
   "language": "python",
   "name": "python3"
  },
  "language_info": {
   "name": "python",
   "version": "3.9.6"
  },
  "orig_nbformat": 4
 },
 "nbformat": 4,
 "nbformat_minor": 2
}

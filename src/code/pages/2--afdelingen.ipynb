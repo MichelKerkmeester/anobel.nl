{
 "cells": [
  {
   "cell_type": "code",
   "execution_count": null,
   "metadata": {
    "vscode": {
     "languageId": "html"
    }
   },
   "outputs": [],
   "source": [
    "JS | Header (End)\n",
    "_________________\n"
   ]
  },
  {
   "cell_type": "code",
   "execution_count": null,
   "metadata": {
    "vscode": {
     "languageId": "html"
    }
   },
   "outputs": [],
   "source": [
    "JS | Footer (Before)\n",
    "____________________\n",
    "\n",
    "<!-- Flowplay Video Player -->\n",
    "<script src=\"https://cdn.jsdelivr.net/gh/videsigns/webflow-tools@latest/Media%20Player/flowplay.js\"></script>\n",
    "\n",
    "<!-- Autoplay - JS Fallback -->\n",
    "<script>\n",
    "    document.addEventListener('DOMContentLoaded', function () {\n",
    "\n",
    "        // Wait 3 seconds before trying to play the video\n",
    "        setTimeout(() => {\n",
    "            const vid = document.querySelector('video.hero--video-element');\n",
    "\n",
    "            // If the video element exists, attempt to play it\n",
    "            if (!vid) return;\n",
    "\n",
    "            vid.play().catch(err => {\n",
    "                // If autoplay is blocked (e.g., user has Low Power Mode), log a warning\n",
    "                console.warn('Autoplay blocked:', err);\n",
    "            });\n",
    "        }, 3000); // 3-second delay\n",
    "\n",
    "    });\n",
    "</script>"
   ]
  }
 ],
 "metadata": {
  "kernelspec": {
   "display_name": "Python 3",
   "language": "python",
   "name": "python3"
  },
  "language_info": {
   "name": "python",
   "version": "3.9.6"
  },
  "orig_nbformat": 4
 },
 "nbformat": 4,
 "nbformat_minor": 2
}
